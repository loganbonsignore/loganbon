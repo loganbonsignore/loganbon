{
 "cells": [
  {
   "cell_type": "markdown",
   "metadata": {},
   "source": [
    "## Binary Search Algorithm\n",
    "- This code searches through an array of random elements to find an element that matches the user's input.\n",
    "- The algorithm narrows choices by slicing arrays into smaller and smaller pieces until finding an exact match or not."
   ]
  },
  {
   "cell_type": "code",
   "execution_count": 226,
   "metadata": {
    "scrolled": true
   },
   "outputs": [],
   "source": [
    "import random\n",
    "import numpy as np\n",
    "from sys import exit"
   ]
  },
  {
   "cell_type": "code",
   "execution_count": 227,
   "metadata": {},
   "outputs": [],
   "source": [
    "def check_for_match(sorted_array, user_number):\n",
    "    if len(sorted_array) == 1 or len(sorted_array) == 2:\n",
    "        found = []\n",
    "        for number in sorted_array:\n",
    "            if number == user_number:\n",
    "                print(f\"We found your number {number}.\")\n",
    "                found.append(number)\n",
    "                exit(\"Successful Exit^\")\n",
    "        if not found:\n",
    "            print(\"We did not find your number.\")\n",
    "            exit(\"Successful Exit^^\")\n",
    "    elif len(sorted_array) == 0:\n",
    "        print(\"We did not find your number.\")\n",
    "        exit(\"Successful Exit^^^\")\n",
    "        \n",
    "def middle_index(sorted_array):\n",
    "    index = len(sorted_array)//2\n",
    "    return index"
   ]
  },
  {
   "cell_type": "code",
   "execution_count": 228,
   "metadata": {},
   "outputs": [
    {
     "name": "stdout",
     "output_type": "stream",
     "text": [
      "Enter a start value for the random array :1\n",
      "Enter an end value for the random array :100\n",
      "[98, 76, 97, 45, 22, 82, 47, 72, 78, 55, 58, 72, 50, 4, 30, 22, 77, 69, 53, 51, 6, 75, 88, 38, 56, 13, 64, 10, 29, 28, 30, 83, 69, 41, 99, 55, 32, 78, 6, 96, 84, 64, 43, 63, 65, 69, 18, 90, 2]\n"
     ]
    }
   ],
   "source": [
    "# Get user input for random array\n",
    "start = int(input(\"Enter a start value for the random array :\"))\n",
    "stop = int(input(\"Enter an end value for the random array :\"))\n",
    "\n",
    "# Print array of numbers\n",
    "k = (stop - start) // 2\n",
    "random_array = random.choices(np.arange(start,stop),k=k)\n",
    "print(random_array)"
   ]
  },
  {
   "cell_type": "code",
   "execution_count": 229,
   "metadata": {},
   "outputs": [
    {
     "name": "stdout",
     "output_type": "stream",
     "text": [
      "Enter a number for the computer to find :2\n"
     ]
    }
   ],
   "source": [
    "# Get user input\n",
    "user_number = int(input(\"Enter a number for the computer to find :\"))\n",
    "# Safety net 'check for match' in case number of possible search results are limited\n",
    "check_for_match(random_array, user_number)"
   ]
  },
  {
   "cell_type": "code",
   "execution_count": 230,
   "metadata": {},
   "outputs": [
    {
     "name": "stdout",
     "output_type": "stream",
     "text": [
      "Top of Algo Sorted Array: [ 2  4  6  6 10 13 18 22 22 28 29 30 30 32 38 41 43 45 47 50 51 53 55 55\n",
      " 56 58 63 64 64 65 69 69 69 72 72 75 76 77 78 78 82 83 84 88 90 96 97 98\n",
      " 99]\n",
      "New Half: [2, 4, 6, 6, 10, 13, 18, 22, 22, 28, 29, 30, 30, 32, 38, 41, 43, 45, 47, 50, 51, 53, 55, 55]\n",
      "Even Converted Odd: [ 2  4  6  6 10 13 18 22 22 28 29 32 38 41 43 45 47 50 51 53 55 55]\n",
      "Even Converted Odd: [ 2  4  6  6 10 13 18 22 22 28 29 38 41 43 45 47 50 51 53 55 55]\n",
      "/NEW LOOP/\n",
      "Top of Algo Sorted Array: [ 2  4  6  6 10 13 18 22 22 28 29 38 41 43 45 47 50 51 53 55 55]\n",
      "New Half: [2, 4, 6, 6, 10, 13, 18, 22, 22, 28]\n",
      "Even Converted Odd: [ 2  4  6  6 10 18 22 22 28]\n",
      "/NEW LOOP/\n",
      "Top of Algo Sorted Array: [ 2  4  6  6 10 18 22 22 28]\n",
      "New Half: [2, 4, 6, 6]\n",
      "Even Converted Odd: [2 4]\n",
      "Even Converted Odd: [2]\n",
      "We found your number 2.\n"
     ]
    },
    {
     "ename": "SystemExit",
     "evalue": "Successful Exit^",
     "output_type": "error",
     "traceback": [
      "An exception has occurred, use %tb to see the full traceback.\n",
      "\u001b[0;31mSystemExit\u001b[0m\u001b[0;31m:\u001b[0m Successful Exit^\n"
     ]
    }
   ],
   "source": [
    "# Sort random array\n",
    "sorted_array = np.sort(random_array)\n",
    "\n",
    "# While length of sorted_array is an even number, check for middle number match. If no match, remove middle number from array. \n",
    "while len(sorted_array)%2 == 0:\n",
    "    if user_number == sorted_array[middle_index(sorted_array)]:\n",
    "        print(f\"We found your number {sorted_array[middle_index(sorted_array)]}.\") \n",
    "        exit(\"Successful Exit*\")\n",
    "    elif user_number != sorted_array[middle_index(sorted_array)]:\n",
    "        sorted_array = sorted_array[sorted_array != sorted_array[middle_index(sorted_array)]]    \n",
    "# Iterate through sorted array until finding user's element or eliminating all possible options\n",
    "while user_number != sorted_array[middle_index(sorted_array)]:\n",
    "    print(f'Top of Algo Sorted Array: {sorted_array}') # for display purposes only\n",
    "    # Create two halfs of the array\n",
    "    half_1 = [sorted_array[x] for x in range(middle_index(sorted_array))]\n",
    "    half_2 = [x for x in sorted_array if x not in half_1 and x != sorted_array[middle_index(sorted_array)]]\n",
    "    # Compare user's number to the middle number of the array to decide which half of the array the user's number is more likley to be in\n",
    "    if user_number > sorted_array[middle_index(sorted_array)]:\n",
    "        new_half = half_2\n",
    "    elif user_number < sorted_array[middle_index(sorted_array)]:\n",
    "        new_half = half_1\n",
    "    print(f'New Half: {new_half}') # for display purposes only\n",
    "    # Sort newly chosen half to ensure accuracy\n",
    "    sorted_array = np.sort(new_half)\n",
    "    # If only a few elements in array, loop through the remaining elements to find a match or eliminate the possibility of a match.\n",
    "    check_for_match(sorted_array, user_number)\n",
    "    # While length of new array is an even number, check for middle number match. If no match, remove middle number from array. \n",
    "    while len(sorted_array)%2 == 0:\n",
    "        if user_number == sorted_array[middle_index(sorted_array)]:\n",
    "            print(f\"We found your number {sorted_array[middle_index(sorted_array)]}.\") \n",
    "            exit(\"Successful Exit**\")\n",
    "        else:\n",
    "            sorted_array = sorted_array[sorted_array != sorted_array[middle_index(sorted_array)]]\n",
    "            print(f'Even Converted Odd: {sorted_array}') # for display purposes only\n",
    "    # If only a few elements in array, loop through the remaining elements to find a match or eliminate the possibility of a match.\n",
    "    check_for_match(sorted_array, user_number)\n",
    "    print(\"/NEW LOOP/\") # for display purposes only\n",
    "else:\n",
    "    print(f\"We found your number {sorted_array[middle_index(sorted_array)]}.\")\n",
    "    exit(\"Successful Exit***\")"
   ]
  }
 ],
 "metadata": {
  "kernelspec": {
   "display_name": "Python 3",
   "language": "python",
   "name": "python3"
  },
  "language_info": {
   "codemirror_mode": {
    "name": "ipython",
    "version": 3
   },
   "file_extension": ".py",
   "mimetype": "text/x-python",
   "name": "python",
   "nbconvert_exporter": "python",
   "pygments_lexer": "ipython3",
   "version": "3.7.6"
  }
 },
 "nbformat": 4,
 "nbformat_minor": 4
}
