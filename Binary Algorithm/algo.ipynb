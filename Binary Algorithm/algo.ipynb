{
 "cells": [
  {
   "cell_type": "markdown",
   "metadata": {},
   "source": [
    "## Binary Search Algorithm\n",
    "- This code searches through an array of random elements to find an element that matches the user's input.\n",
    "- The algorithm narrows choices by slicing arrays into smaller and smaller pieces until finding an exact match "
   ]
  },
  {
   "cell_type": "code",
   "execution_count": 1,
   "metadata": {},
   "outputs": [
    {
     "name": "stdout",
     "output_type": "stream",
     "text": [
      "[60, 28, 92, 65, 20, 33, 91, 32, 14, 25, 93, 23, 85, 47, 3, 9, 63, 46, 0, 10, 85, 46, 57, 5, 18, 20, 31, 36, 4, 12, 66, 64, 59, 68, 18, 56, 26, 84, 55, 70, 19, 87, 78, 74, 11, 75, 29, 72, 85, 25]\n"
     ]
    }
   ],
   "source": [
    "import random\n",
    "import numpy as np\n",
    "\n",
    "random_array = random.choices(np.arange(0,100),k=50)\n",
    "print(random_array)"
   ]
  },
  {
   "cell_type": "code",
   "execution_count": null,
   "metadata": {},
   "outputs": [],
   "source": [
    "# ask user for a number\n",
    "user_input = int(input(\"Enter a number between 1-100 for the algorithim to find :\"))"
   ]
  },
  {
   "cell_type": "code",
   "execution_count": null,
   "metadata": {},
   "outputs": [],
   "source": [
    "# slice random_array array into two containers\n",
    "middle_value = int(len(random_array)//2)\n",
    "first_half = random_array[:middle_value]\n",
    "second_half = random_array[middle_value:]\n",
    "\n",
    "# determine if user_input matches any element in half 1\n",
    "if user_input in first_half:\n",
    "    # split first_half container into two smaller containers\n",
    "    middle_value = len(first_half)//2\n",
    "    second_half = first_half[middle_value:]\n",
    "    first_half = first_half[:middle_value]\n",
    "    print(first_half)\n",
    "    print(second_half)\n",
    "# determine if user_input matches any element in half 2\n",
    "elif user_input in second_half:\n",
    "    # split second_half container into two smaller containers\n",
    "    middle_value = len(second_half)//2\n",
    "    first_half = second_half[:middle_value]\n",
    "    second_half = second_half[middle_value:]\n",
    "    print(first_half)\n",
    "    print(second_half)\n",
    "else:\n",
    "    print(\"Your number is not in this list\")\n",
    "    exit()"
   ]
  },
  {
   "cell_type": "code",
   "execution_count": null,
   "metadata": {},
   "outputs": [],
   "source": [
    "# determine if user_input matches any element in half 1 of smaller array\n",
    "if user_input in first_half:\n",
    "    # split new first_half container into two smaller containers\n",
    "    middle_value = len(first_half)//2\n",
    "    second_half = first_half[middle_value:]\n",
    "    first_half = first_half[:middle_value]\n",
    "    print(first_half)\n",
    "    print(second_half)\n",
    "# determine if user_input matches any element in half 2 of smaller array\n",
    "elif user_input in second_half:\n",
    "    # split new second_half container into two smaller containers\n",
    "    middle_value = len(second_half)//2\n",
    "    first_half = second_half[:middle_value]\n",
    "    second_half = second_half[middle_value:]\n",
    "    print(first_half)\n",
    "    print(second_half)"
   ]
  },
  {
   "cell_type": "code",
   "execution_count": null,
   "metadata": {},
   "outputs": [],
   "source": [
    "# determine if user_input matches any element in half 1 of smaller array\n",
    "if user_input in first_half:\n",
    "    # split new first_half container into two smaller containers\n",
    "    middle_value = len(first_half)//2\n",
    "    second_half = first_half[middle_value:]\n",
    "    first_half = first_half[:middle_value]\n",
    "    print(first_half)\n",
    "    print(second_half)\n",
    "# determine if user_input matches any element in half 2 of smaller array\n",
    "elif user_input in second_half:\n",
    "    # split new second_half container into two smaller containers\n",
    "    middle_value = len(second_half)//2\n",
    "    first_half = second_half[:middle_value]\n",
    "    second_half = second_half[middle_value:]\n",
    "    print(first_half)\n",
    "    print(second_half)    "
   ]
  },
  {
   "cell_type": "code",
   "execution_count": null,
   "metadata": {},
   "outputs": [],
   "source": [
    "# determine if user_input matches any element in half 1 of smaller array\n",
    "if user_input in first_half:\n",
    "    # split new first_half container into two smaller containers\n",
    "    middle_value = len(first_half)//2\n",
    "    second_half = first_half[middle_value:]\n",
    "    first_half = first_half[:middle_value]\n",
    "    print(first_half)\n",
    "    print(second_half)\n",
    "# determine if user_input matches any element in half 2 of smaller array\n",
    "elif user_input in second_half:\n",
    "    # split new second_half container into two smaller containers\n",
    "    middle_value = len(second_half)//2\n",
    "    first_half = second_half[:middle_value]\n",
    "    second_half = second_half[middle_value:]\n",
    "    print(first_half)\n",
    "    print(second_half)"
   ]
  },
  {
   "cell_type": "code",
   "execution_count": null,
   "metadata": {},
   "outputs": [],
   "source": [
    "# with minimal elements remaining, evaluate for match and return results to user\n",
    "if (len(first_half)==1) and (first_half[0]==user_input):\n",
    "        print(f\"Your number, {first_half[0]}, is in this list.\")\n",
    "elif (len(first_half)==2) and (first_half[0]==user_input):\n",
    "        print(f\"Your number, {first_half[0]}, is in this list.\")\n",
    "elif (len(first_half)==2) and (first_half[1]==user_input):\n",
    "        print(f\"Your number, {first_half[1]}, is in this list.\")\n",
    "# check final numbers in second half       \n",
    "elif (len(second_half)==1) and (second_half[0]==user_input):\n",
    "    print(f\"Your number, {second_half[0]}, is in this list.\")\n",
    "elif (len(second_half)==2) and (second_half[0]==user_input):\n",
    "    print(f\"Your number, {second_half[0]}, is in this list.\")\n",
    "elif (len(second_half)==2) and (second_half[1]==user_input):\n",
    "    print(f\"Your number, {second_half[1]}, is in this list.\")"
   ]
  }
 ],
 "metadata": {
  "kernelspec": {
   "display_name": "Python 3",
   "language": "python",
   "name": "python3"
  },
  "language_info": {
   "codemirror_mode": {
    "name": "ipython",
    "version": 3
   },
   "file_extension": ".py",
   "mimetype": "text/x-python",
   "name": "python",
   "nbconvert_exporter": "python",
   "pygments_lexer": "ipython3",
   "version": "3.7.6"
  }
 },
 "nbformat": 4,
 "nbformat_minor": 4
}
