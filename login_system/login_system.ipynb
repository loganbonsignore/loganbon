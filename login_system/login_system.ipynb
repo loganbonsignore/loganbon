{
 "cells": [
  {
   "cell_type": "markdown",
   "metadata": {},
   "source": [
    "## Login System"
   ]
  },
  {
   "cell_type": "code",
   "execution_count": 4,
   "metadata": {},
   "outputs": [],
   "source": [
    "import os\n",
    "import pandas as pd"
   ]
  },
  {
   "cell_type": "code",
   "execution_count": 5,
   "metadata": {},
   "outputs": [
    {
     "name": "stdout",
     "output_type": "stream",
     "text": [
      "Do you have an account? (y/n)n\n"
     ]
    }
   ],
   "source": [
    "# get resource file paths\n",
    "customer_list_path = os.path.join(\"Resources/customer_list.csv\")\n",
    "private_path = os.path.join(\"Resources/private.csv\")\n",
    "# read csv\n",
    "customer_list = pd.read_csv(customer_list_path)\n",
    "private_list = pd.read_csv(private_path)\n",
    "# create dataframes\n",
    "customer_df = pd.DataFrame(customer_list)\n",
    "private_df = pd.DataFrame(private_list)\n",
    "\n",
    "# Ask user if they have an account\n",
    "user_input = input(\"Do you have an account? (y/n)\")"
   ]
  },
  {
   "cell_type": "code",
   "execution_count": 6,
   "metadata": {},
   "outputs": [
    {
     "name": "stdout",
     "output_type": "stream",
     "text": [
      "No Problem! Answer these questions to complete your account set up:\n",
      "What is your first name?test_first\n",
      "What is your last name?test_last\n",
      "What is your zip code?test_zip\n",
      "What is your phone number?test_phone\n",
      "What is your email address?test_email\n",
      "What would you like your new username to be?test_username\n",
      "What would you like your new password to be?test_password\n",
      "Your account has been created!! Enjoy the benefits of our website\n",
      "\n",
      "The user would now be sent to the website's home page.\n"
     ]
    }
   ],
   "source": [
    "# if the user has an account, prompt user to login\n",
    "if user_input.lower() == \"y\":\n",
    "    # ask user for username and password\n",
    "    username = input(\"Enter your username\").lower()\n",
    "    password = input(\"Enter your password\")\n",
    "    # if username is recognized, check for authenticity\n",
    "    while username in list(private_df[\"Username\"]):\n",
    "        # filter customer list dataframe to only the current user's information\n",
    "        customer = private_df.loc[username==private_df[\"Username\"],:]\n",
    "        # authenticate username and password match\n",
    "        if (username == customer[\"Username\"]).bool() & (password == customer[\"Password\"]).bool():\n",
    "            print(\"Congratulations you're logged in\")\n",
    "            break\n",
    "        # if password is incorrect ask user to re-enter password\n",
    "        elif (username == customer[\"Username\"]).bool() & (password != customer[\"Password\"]).bool():\n",
    "            password = input(\"That password is incorrect. Please try again.\")       \n",
    "    # if username is not recognized, promt user to set up new account\n",
    "    else:\n",
    "        user_input = input(\"We don't have an account associated with that username. Would you like to set up a new account? (y/n)\")\n",
    "        # if user doesnt want to set up new account, quit the program\n",
    "        if user_input.lower() == \"n\":\n",
    "            print(\"Thanks for visiting our website. We hope to hear from you again soon.\") \n",
    "            exit()\n",
    "        # if user does want to set up an account\n",
    "        elif user_input.lower() ==\"y\":\n",
    "            # collect user information\n",
    "            print(\"No Problem! Answer these questions to complete your account set up:\")\n",
    "            first_name = input(\"What is your first name?\")\n",
    "            last_name = input(\"What is your last name?\")\n",
    "            zipcode = input(\"What is your zip code?\")\n",
    "            phone = input(\"What is your phone number?\")\n",
    "            email = input(\"What is your email address?\")\n",
    "            username = input(\"What would you like your new username to be?\")\n",
    "            password = input(\"What would you like your new password to be?\")\n",
    "            information = [first_name,last_name,zipcode,phone,email]\n",
    "            private = [username,password]\n",
    "            # add new information to customer_list dataframe\n",
    "            new_row = {\"First Name\":first_name,\"Last Name\":last_name,\"Zip\":zipcode,\"Phone\":phone,\"Email\":email}\n",
    "            customer_df = customer_df.append(new_row, ignore_index=True)\n",
    "            # add new login info to private dataframe\n",
    "            new_row_1 = {\"Username\":username,\"Password\":password}\n",
    "            private_df = private_df.append(new_row_1, ignore_index=True)\n",
    "            # save both dataframes to csv\n",
    "            customer_df = customer_df.to_csv(customer_list_path, index=False)\n",
    "            private_df = private_df.to_csv(private_path, index=False)\n",
    "            print(\"Your account has been created!! Enjoy the benefits of our website\")\n",
    "\n",
    "# if user doesn't have an account, prompt them to set up a new account\n",
    "elif user_input == \"n\":\n",
    "    # collect user information\n",
    "    print(\"No Problem! Answer these questions to complete your account set up:\")\n",
    "    first_name = input(\"What is your first name?\")\n",
    "    last_name = input(\"What is your last name?\")\n",
    "    zipcode = input(\"What is your zip code?\")\n",
    "    phone = input(\"What is your phone number?\")\n",
    "    email = input(\"What is your email address?\")\n",
    "    username = input(\"What would you like your new username to be?\")\n",
    "    password = input(\"What would you like your new password to be?\")\n",
    "    information = [first_name,last_name,zipcode,phone,email]\n",
    "    private = [username,password]\n",
    "    # add new information to customer_list dataframe\n",
    "    new_row = {\"First Name\":first_name,\"Last Name\":last_name,\"Zip\":zipcode,\"Phone\":phone,\"Email\":email}\n",
    "    customer_df = customer_df.append(new_row, ignore_index=True)\n",
    "    # add new login info to private dataframe\n",
    "    new_row_1 = {\"Username\":username,\"Password\":password}\n",
    "    private_df = private_df.append(new_row_1, ignore_index=True)\n",
    "    # save both dataframes to csv\n",
    "    customer_df = customer_df.to_csv(customer_list_path, index=False)\n",
    "    private_df = private_df.to_csv(private_path, index=False)\n",
    "    print(\"Your account has been created!! Enjoy the benefits of our website\")\n",
    "\n",
    "# the user will now be sent to the home page\n",
    "print(\"\"\"\n",
    "The user would now be sent to the website's home page.\"\"\")"
   ]
  },
  {
   "cell_type": "code",
   "execution_count": 9,
   "metadata": {},
   "outputs": [
    {
     "data": {
      "text/html": [
       "<div>\n",
       "<style scoped>\n",
       "    .dataframe tbody tr th:only-of-type {\n",
       "        vertical-align: middle;\n",
       "    }\n",
       "\n",
       "    .dataframe tbody tr th {\n",
       "        vertical-align: top;\n",
       "    }\n",
       "\n",
       "    .dataframe thead th {\n",
       "        text-align: right;\n",
       "    }\n",
       "</style>\n",
       "<table border=\"1\" class=\"dataframe\">\n",
       "  <thead>\n",
       "    <tr style=\"text-align: right;\">\n",
       "      <th></th>\n",
       "      <th>First Name</th>\n",
       "      <th>Last Name</th>\n",
       "      <th>Zip</th>\n",
       "      <th>Phone</th>\n",
       "      <th>Email</th>\n",
       "    </tr>\n",
       "  </thead>\n",
       "  <tbody>\n",
       "    <tr>\n",
       "      <th>0</th>\n",
       "      <td>Logan</td>\n",
       "      <td>Bonsignore</td>\n",
       "      <td>80017</td>\n",
       "      <td>7202734729</td>\n",
       "      <td>Loganbon14@gmail.com</td>\n",
       "    </tr>\n",
       "    <tr>\n",
       "      <th>1</th>\n",
       "      <td>test_first</td>\n",
       "      <td>test_last</td>\n",
       "      <td>test_zip</td>\n",
       "      <td>test_phone</td>\n",
       "      <td>test_email</td>\n",
       "    </tr>\n",
       "  </tbody>\n",
       "</table>\n",
       "</div>"
      ],
      "text/plain": [
       "   First Name   Last Name       Zip       Phone                 Email\n",
       "0       Logan  Bonsignore     80017  7202734729  Loganbon14@gmail.com\n",
       "1  test_first   test_last  test_zip  test_phone            test_email"
      ]
     },
     "execution_count": 9,
     "metadata": {},
     "output_type": "execute_result"
    }
   ],
   "source": [
    "# the new customer's information is stored in a csv file,\n",
    "# enabling the website owner to reference the data at their discretion\n",
    "reader = pd.read_csv(\"Resources/customer_list.csv\")\n",
    "pd.DataFrame(reader)"
   ]
  },
  {
   "cell_type": "code",
   "execution_count": 10,
   "metadata": {},
   "outputs": [
    {
     "data": {
      "text/html": [
       "<div>\n",
       "<style scoped>\n",
       "    .dataframe tbody tr th:only-of-type {\n",
       "        vertical-align: middle;\n",
       "    }\n",
       "\n",
       "    .dataframe tbody tr th {\n",
       "        vertical-align: top;\n",
       "    }\n",
       "\n",
       "    .dataframe thead th {\n",
       "        text-align: right;\n",
       "    }\n",
       "</style>\n",
       "<table border=\"1\" class=\"dataframe\">\n",
       "  <thead>\n",
       "    <tr style=\"text-align: right;\">\n",
       "      <th></th>\n",
       "      <th>Username</th>\n",
       "      <th>Password</th>\n",
       "    </tr>\n",
       "  </thead>\n",
       "  <tbody>\n",
       "    <tr>\n",
       "      <th>0</th>\n",
       "      <td>loganbon</td>\n",
       "      <td>TestPassword</td>\n",
       "    </tr>\n",
       "    <tr>\n",
       "      <th>1</th>\n",
       "      <td>test_username</td>\n",
       "      <td>test_password</td>\n",
       "    </tr>\n",
       "  </tbody>\n",
       "</table>\n",
       "</div>"
      ],
      "text/plain": [
       "        Username       Password\n",
       "0       loganbon   TestPassword\n",
       "1  test_username  test_password"
      ]
     },
     "execution_count": 10,
     "metadata": {},
     "output_type": "execute_result"
    }
   ],
   "source": [
    "# the new customer's username and password is stored in a csv file,\n",
    "# enabling the user to login with thier personal crudentials\n",
    "reader = pd.read_csv(\"Resources/private.csv\")\n",
    "pd.DataFrame(reader)"
   ]
  },
  {
   "cell_type": "code",
   "execution_count": null,
   "metadata": {},
   "outputs": [],
   "source": []
  }
 ],
 "metadata": {
  "kernelspec": {
   "display_name": "Python 3",
   "language": "python",
   "name": "python3"
  },
  "language_info": {
   "codemirror_mode": {
    "name": "ipython",
    "version": 3
   },
   "file_extension": ".py",
   "mimetype": "text/x-python",
   "name": "python",
   "nbconvert_exporter": "python",
   "pygments_lexer": "ipython3",
   "version": "3.7.6"
  }
 },
 "nbformat": 4,
 "nbformat_minor": 4
}
