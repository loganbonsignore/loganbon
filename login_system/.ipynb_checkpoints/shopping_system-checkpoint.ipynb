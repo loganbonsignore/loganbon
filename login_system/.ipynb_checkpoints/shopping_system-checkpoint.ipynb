{
 "cells": [
  {
   "cell_type": "markdown",
   "metadata": {},
   "source": [
    "### Shopping Experience"
   ]
  },
  {
   "cell_type": "code",
   "execution_count": 76,
   "metadata": {},
   "outputs": [],
   "source": [
    "import os\n",
    "import pandas as pd"
   ]
  },
  {
   "cell_type": "code",
   "execution_count": 77,
   "metadata": {},
   "outputs": [],
   "source": [
    "# define variables\n",
    "def print_cart():\n",
    "    print(f\"\"\"\n",
    "----------------------------------------------------------------\n",
    "Here is your cart. Please review that your order is correct before advancing.\n",
    "\n",
    "You purchased:\n",
    "{order_list.count('Item_1')} {menu_df.iloc[0,0]} for a total of {menu_df.iloc[0,2]}\n",
    "{order_list.count('Item_2')} {menu_df.iloc[1,1]} for a total of {menu_df.iloc[1,2]}\n",
    "{order_list.count('Item_3')} {menu_df.iloc[2,2]} for a total of {menu_df.iloc[2,2]}\n",
    "{order_list.count('Item_4')} {menu_df.iloc[3,3]} for a total of {menu_df.iloc[3,2]}\n",
    "{order_list.count('Item_5')} {menu_df.iloc[4,4]} for a total of {menu_df.iloc[4,2]}\n",
    "\"\"\")"
   ]
  },
  {
   "cell_type": "code",
   "execution_count": 78,
   "metadata": {},
   "outputs": [],
   "source": [
    "# menu = [\n",
    "#     {\"Item\":\"item_1\",\"Description\":\"Description_1\",\"Price\":\"Price_1\"},\n",
    "#     {\"Item\":\"item_2\",\"Description\":\"Description_2\",\"Price\":\"Price_2\"},\n",
    "#     {\"Item\":\"item_3\",\"Description\":\"Description_3\",\"Price\":\"Price_3\"},\n",
    "#     {\"Item\":\"item_4\",\"Description\":\"Description_4\",\"Price\":\"Price_4\"},\n",
    "#     {\"Item\":\"item_5\",\"Description\":\"Description_5\",\"Price\":\"Price_5\"},\n",
    "# ]\n",
    "# menu_df = pd.DataFrame(menu)\n",
    "# menu_df.head()"
   ]
  },
  {
   "cell_type": "code",
   "execution_count": 79,
   "metadata": {},
   "outputs": [
    {
     "name": "stdout",
     "output_type": "stream",
     "text": [
      "\n",
      "Welcome to the Home Page! Here are your options:\n",
      "\n",
      "-----------------------------------------------------------------\n",
      "     Item    Description    Price\n",
      "0  Item_1  Description_1  Price_1\n",
      "1  Item_2  Description_2  Price_2\n",
      "2  Item_3  Description_3  Price_3\n",
      "3  Item_4  Description_4  Price_4\n",
      "4  Item_5  Description_5  Price_5\n"
     ]
    }
   ],
   "source": [
    "menu = {\n",
    "    \"Item\":[\"Item_1\",\"Item_2\",\"Item_3\",\"Item_4\",\"Item_5\"],\n",
    "    \"Description\":[\"Description_1\",\"Description_2\",\"Description_3\",\"Description_4\",\"Description_5\"],\n",
    "    \"Price\":[\"Price_1\",\"Price_2\",\"Price_3\",\"Price_4\",\"Price_5\"]\n",
    "}\n",
    "menu_df = pd.DataFrame(menu)\n",
    "\n",
    "# welcome user\n",
    "print(\"\"\"\n",
    "Welcome to the Home Page! Here are your options:\n",
    "\n",
    "-----------------------------------------------------------------\"\"\")\n",
    "print(menu_df.head())"
   ]
  },
  {
   "cell_type": "code",
   "execution_count": 80,
   "metadata": {},
   "outputs": [
    {
     "name": "stdout",
     "output_type": "stream",
     "text": [
      "[1] Item_1,\n",
      "[2] Item_2,\n",
      "[3] Item_3,\n",
      "Enter the order number of the product you'd like to order :2\n"
     ]
    },
    {
     "ename": "KeyError",
     "evalue": "1",
     "output_type": "error",
     "traceback": [
      "\u001b[0;31m---------------------------------------------------------------------------\u001b[0m",
      "\u001b[0;31mKeyError\u001b[0m                                  Traceback (most recent call last)",
      "\u001b[0;32m<ipython-input-80-0d11740f1568>\u001b[0m in \u001b[0;36m<module>\u001b[0;34m\u001b[0m\n\u001b[1;32m     13\u001b[0m     \u001b[0;31m# tell user we have added to order\u001b[0m\u001b[0;34m\u001b[0m\u001b[0;34m\u001b[0m\u001b[0;34m\u001b[0m\u001b[0m\n\u001b[1;32m     14\u001b[0m     print(f\"\"\"\n\u001b[0;32m---> 15\u001b[0;31m Great! We'll have a {menu[user_input - 1]} added to your order!\"\"\")\n\u001b[0m\u001b[1;32m     16\u001b[0m     \u001b[0;31m# add item to order list\u001b[0m\u001b[0;34m\u001b[0m\u001b[0;34m\u001b[0m\u001b[0;34m\u001b[0m\u001b[0m\n\u001b[1;32m     17\u001b[0m     \u001b[0morder_list\u001b[0m\u001b[0;34m.\u001b[0m\u001b[0mappend\u001b[0m\u001b[0;34m(\u001b[0m\u001b[0mmenu\u001b[0m\u001b[0;34m[\u001b[0m\u001b[0muser_input\u001b[0m\u001b[0;34m-\u001b[0m\u001b[0;36m1\u001b[0m\u001b[0;34m]\u001b[0m\u001b[0;34m)\u001b[0m\u001b[0;34m\u001b[0m\u001b[0;34m\u001b[0m\u001b[0m\n",
      "\u001b[0;31mKeyError\u001b[0m: 1"
     ]
    }
   ],
   "source": [
    "order_list = []\n",
    "\n",
    "\n",
    "# print menu\n",
    "for i in range(len(menu)):\n",
    "    print(f\"{[i+1]} {menu_df['Item'][i]},\")\n",
    "\n",
    "# ask for order number\n",
    "user_input = int(input(\"Enter the order number of the product you'd like to order :\"))\n",
    "\n",
    "# while user input is recognized as valid\n",
    "while user_input <= len(menu_df) and user_input > 0:\n",
    "    # tell user we have added to order\n",
    "    print(f\"\"\"\n",
    "Great! We'll have a {menu[user_input - 1]} added to your order!\"\"\")\n",
    "    # add item to order list\n",
    "    order_list.append(menu[user_input-1])\n",
    "    # ask for another order\n",
    "    new_input = input(\"Is there anything else we can get you? Enter (n) to continue to payment :\")\n",
    "    if new_input == \"n\":\n",
    "        print(f\"\"\"\n",
    "----------------------------------------------------------------\n",
    "Here is your cart. Please review that your order is correct before advancing.\n",
    "\n",
    "You purchased:\n",
    "{order_list.count('Item_1')} Item_1\n",
    "{order_list.count('Item_2')} Item_2\n",
    "{order_list.count('Item_3')} Item_3\n",
    "{order_list.count('Item_4')} Item_4 \n",
    "{order_list.count('Item_5')} Item_5\n",
    "\n",
    "\"\"\")\n",
    "        break\n",
    "print(\"you are now at checkout\")"
   ]
  },
  {
   "cell_type": "code",
   "execution_count": null,
   "metadata": {},
   "outputs": [],
   "source": []
  }
 ],
 "metadata": {
  "kernelspec": {
   "display_name": "Python 3",
   "language": "python",
   "name": "python3"
  },
  "language_info": {
   "codemirror_mode": {
    "name": "ipython",
    "version": 3
   },
   "file_extension": ".py",
   "mimetype": "text/x-python",
   "name": "python",
   "nbconvert_exporter": "python",
   "pygments_lexer": "ipython3",
   "version": "3.7.6"
  }
 },
 "nbformat": 4,
 "nbformat_minor": 4
}
