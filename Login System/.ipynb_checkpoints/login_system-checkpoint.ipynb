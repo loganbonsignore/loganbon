{
 "cells": [
  {
   "cell_type": "markdown",
   "metadata": {},
   "source": [
    "## Login System\n",
    "#### This code mimics a login system for a user accessing an account inside of an application or website.\n",
    "1. The program verify's the authenticity of the username and password before allowing the user to continue\n",
    "2. If the user does not have an account, the program prompts the user to set up a new account by collecting user information\n",
    "3. All user information is saved to local files"
   ]
  },
  {
   "cell_type": "code",
   "execution_count": 45,
   "metadata": {},
   "outputs": [],
   "source": [
    "import os\n",
    "import pandas as pd"
   ]
  },
  {
   "cell_type": "code",
   "execution_count": 46,
   "metadata": {},
   "outputs": [],
   "source": [
    "# get resource file paths\n",
    "customer_list_path = os.path.join(\"Resources/customer_list.csv\")\n",
    "private_path = os.path.join(\"Resources/private.csv\")\n",
    "# read csv\n",
    "customer_list = pd.read_csv(customer_list_path)\n",
    "private_list = pd.read_csv(private_path)\n",
    "# create dataframes\n",
    "customer_df = pd.DataFrame(customer_list)\n",
    "private_df = pd.DataFrame(private_list)"
   ]
  },
  {
   "cell_type": "code",
   "execution_count": 47,
   "metadata": {},
   "outputs": [
    {
     "name": "stdout",
     "output_type": "stream",
     "text": [
      "Do you have an account? (y/n) :n\n"
     ]
    }
   ],
   "source": [
    "# Ask user if they have an account\n",
    "user_input = input(\"Do you have an account? (y/n) :\")"
   ]
  },
  {
   "cell_type": "code",
   "execution_count": 48,
   "metadata": {},
   "outputs": [
    {
     "name": "stdout",
     "output_type": "stream",
     "text": [
      "No Problem! Answer these questions to complete your account set up:\n",
      "What is your first name? :test_name\n",
      "What is your last name? :test_lastname\n",
      "What city do you live in? :test_city\n",
      "What is your phone number? :test_phone\n",
      "What is your email address? :test_email\n",
      "What would you like your new username to be? :test_username\n",
      "What would you like your new password to be? :test_password\n",
      "Your account has been created!! Enjoy the benefits of our website\n"
     ]
    }
   ],
   "source": [
    "# if the user has an account, prompt user to login\n",
    "if user_input.lower() == \"y\":\n",
    "    # ask user for username and password\n",
    "    username = input(\"Enter your username :\").lower()\n",
    "    password = input(\"Enter your password :\")\n",
    "    # while the user is operating as a recognized username, check for the authenticity of their password\n",
    "    while username.lower() in list(private_df[\"Username\"]):\n",
    "        # filter customer list dataframe to only the current user's information\n",
    "        customer = private_df.loc[username==private_df[\"Username\"],:]\n",
    "        # authenticate username and password match\n",
    "        if (username == customer[\"Username\"]).bool() & (password == customer[\"Password\"]).bool():\n",
    "            print(\"Congratulations you're logged in\")\n",
    "            break\n",
    "        # if password is incorrect ask user to re-enter password\n",
    "        elif (username == customer[\"Username\"]).bool() & (password != customer[\"Password\"]).bool():\n",
    "            password = input(\"That password is incorrect. Please try again.\")       \n",
    "    # if username is not recognized, promt user to set up new account\n",
    "    else:\n",
    "        user_input = input(\"We don't have an account associated with that username. Would you like to set up a new account? (y/n)\")\n",
    "        # if user doesnt want to create new account, quit the program\n",
    "        if user_input.lower() == \"n\":\n",
    "            print(\"Thanks for visiting our website. We hope to hear from you again soon.\") \n",
    "            exit()\n",
    "        # if user wants to create account, prompt them to set up a new account and collect information\n",
    "        elif user_input.lower() ==\"y\":\n",
    "            # collect user information\n",
    "            print(\"No Problem! Answer these questions to complete your account set up:\")\n",
    "            first_name = input(\"What is your first name? :\")\n",
    "            last_name = input(\"What is your last name? :\")\n",
    "            city = input(\"What city do you live in? :\")\n",
    "            phone = input(\"What is your phone number? :\")\n",
    "            email = input(\"What is your email address? :\")\n",
    "            username = input(\"What would you like your new username to be? :\").lower()\n",
    "            password = input(\"What would you like your new password to be? :\")\n",
    "            information = [first_name,last_name,city,phone,email]\n",
    "            private = [username,password]\n",
    "            # add new information to dataframe\n",
    "            new_row = {\"First Name\":first_name,\"Last Name\":last_name,\"City\":city,\"Phone\":phone,\"Email\":email}\n",
    "            customer_df = customer_df.append(new_row, ignore_index=True)\n",
    "            # add new login info to private dataframe\n",
    "            new_row_1 = {\"Username\":username,\"Password\":password}\n",
    "            private_df = private_df.append(new_row_1, ignore_index=True)\n",
    "            # save both dataframes to csv\n",
    "            customer_df = customer_df.to_csv(customer_list_path, index=False)\n",
    "            private_df = private_df.to_csv(private_path, index=False)\n",
    "            print(\"Your account has been created!! Enjoy the benefits of our website\")\n",
    "\n",
    "# if user doesn't have an account, prompt them to set up a new account and collect information\n",
    "elif user_input == \"n\":\n",
    "    # collect user information\n",
    "    print(\"No Problem! Answer these questions to complete your account set up:\")\n",
    "    first_name = input(\"What is your first name? :\")\n",
    "    last_name = input(\"What is your last name? :\")\n",
    "    city = input(\"What city do you live in? :\")\n",
    "    phone = input(\"What is your phone number? :\")\n",
    "    email = input(\"What is your email address? :\")\n",
    "    username = input(\"What would you like your new username to be? :\").lower()\n",
    "    password = input(\"What would you like your new password to be? :\")\n",
    "    information = [first_name,last_name,city,phone,email]\n",
    "    private = [username,password]\n",
    "    # add new information to dataframe\n",
    "    new_row = {\"First Name\":first_name,\"Last Name\":last_name,\"City\":city,\"Phone\":phone,\"Email\":email}\n",
    "    customer_df = customer_df.append(new_row, ignore_index=True)\n",
    "    # add new login info to private dataframe\n",
    "    new_row_1 = {\"Username\":username,\"Password\":password}\n",
    "    private_df = private_df.append(new_row_1, ignore_index=True)\n",
    "    # save both dataframes to csv\n",
    "    customer_df = customer_df.to_csv(customer_list_path, index=False)\n",
    "    private_df = private_df.to_csv(private_path, index=False)\n",
    "    print(\"Your account has been created!! Enjoy the benefits of our website\")"
   ]
  },
  {
   "cell_type": "markdown",
   "metadata": {},
   "source": [
    "### The new user now has access to their account's landing page.\n",
    "- The user's information is saved to local files for future use.\n",
    "- The user's username and password are stored separately in a more secure destination."
   ]
  },
  {
   "cell_type": "code",
   "execution_count": 49,
   "metadata": {},
   "outputs": [
    {
     "data": {
      "text/html": [
       "<div>\n",
       "<style scoped>\n",
       "    .dataframe tbody tr th:only-of-type {\n",
       "        vertical-align: middle;\n",
       "    }\n",
       "\n",
       "    .dataframe tbody tr th {\n",
       "        vertical-align: top;\n",
       "    }\n",
       "\n",
       "    .dataframe thead th {\n",
       "        text-align: right;\n",
       "    }\n",
       "</style>\n",
       "<table border=\"1\" class=\"dataframe\">\n",
       "  <thead>\n",
       "    <tr style=\"text-align: right;\">\n",
       "      <th></th>\n",
       "      <th>First Name</th>\n",
       "      <th>Last Name</th>\n",
       "      <th>City</th>\n",
       "      <th>Phone</th>\n",
       "      <th>Email</th>\n",
       "    </tr>\n",
       "  </thead>\n",
       "  <tbody>\n",
       "    <tr>\n",
       "      <th>0</th>\n",
       "      <td>Logan</td>\n",
       "      <td>Bonsignore</td>\n",
       "      <td>Denver</td>\n",
       "      <td>7202734729</td>\n",
       "      <td>Loganbon14@gmail.com</td>\n",
       "    </tr>\n",
       "    <tr>\n",
       "      <th>1</th>\n",
       "      <td>test_name</td>\n",
       "      <td>test_lastname</td>\n",
       "      <td>test_city</td>\n",
       "      <td>test_phone</td>\n",
       "      <td>test_email</td>\n",
       "    </tr>\n",
       "  </tbody>\n",
       "</table>\n",
       "</div>"
      ],
      "text/plain": [
       "  First Name      Last Name       City       Phone                 Email\n",
       "0      Logan     Bonsignore     Denver  7202734729  Loganbon14@gmail.com\n",
       "1  test_name  test_lastname  test_city  test_phone            test_email"
      ]
     },
     "execution_count": 49,
     "metadata": {},
     "output_type": "execute_result"
    }
   ],
   "source": [
    "# proof of information storage\n",
    "pd.read_csv(\"Resources/customer_list.csv\")"
   ]
  },
  {
   "cell_type": "code",
   "execution_count": 50,
   "metadata": {},
   "outputs": [
    {
     "data": {
      "text/html": [
       "<div>\n",
       "<style scoped>\n",
       "    .dataframe tbody tr th:only-of-type {\n",
       "        vertical-align: middle;\n",
       "    }\n",
       "\n",
       "    .dataframe tbody tr th {\n",
       "        vertical-align: top;\n",
       "    }\n",
       "\n",
       "    .dataframe thead th {\n",
       "        text-align: right;\n",
       "    }\n",
       "</style>\n",
       "<table border=\"1\" class=\"dataframe\">\n",
       "  <thead>\n",
       "    <tr style=\"text-align: right;\">\n",
       "      <th></th>\n",
       "      <th>Username</th>\n",
       "      <th>Password</th>\n",
       "    </tr>\n",
       "  </thead>\n",
       "  <tbody>\n",
       "    <tr>\n",
       "      <th>0</th>\n",
       "      <td>loganbon</td>\n",
       "      <td>TestPassword</td>\n",
       "    </tr>\n",
       "    <tr>\n",
       "      <th>1</th>\n",
       "      <td>test_username</td>\n",
       "      <td>test_password</td>\n",
       "    </tr>\n",
       "  </tbody>\n",
       "</table>\n",
       "</div>"
      ],
      "text/plain": [
       "        Username       Password\n",
       "0       loganbon   TestPassword\n",
       "1  test_username  test_password"
      ]
     },
     "execution_count": 50,
     "metadata": {},
     "output_type": "execute_result"
    }
   ],
   "source": [
    "# proof of username and password storage\n",
    "pd.read_csv(\"Resources/private.csv\")"
   ]
  }
 ],
 "metadata": {
  "kernelspec": {
   "display_name": "Python 3",
   "language": "python",
   "name": "python3"
  },
  "language_info": {
   "codemirror_mode": {
    "name": "ipython",
    "version": 3
   },
   "file_extension": ".py",
   "mimetype": "text/x-python",
   "name": "python",
   "nbconvert_exporter": "python",
   "pygments_lexer": "ipython3",
   "version": "3.7.6"
  }
 },
 "nbformat": 4,
 "nbformat_minor": 4
}
