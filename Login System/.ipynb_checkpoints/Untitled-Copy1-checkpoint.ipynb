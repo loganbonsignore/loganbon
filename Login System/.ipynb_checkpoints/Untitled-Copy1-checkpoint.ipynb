{
 "cells": [
  {
   "cell_type": "markdown",
   "metadata": {},
   "source": [
    "### Login System"
   ]
  },
  {
   "cell_type": "markdown",
   "metadata": {},
   "source": [
    "#### Fix Output of CSV to bottom row"
   ]
  },
  {
   "cell_type": "code",
   "execution_count": 4,
   "metadata": {},
   "outputs": [],
   "source": [
    "import os\n",
    "import csv\n",
    "import pandas as pd"
   ]
  },
  {
   "cell_type": "code",
   "execution_count": 5,
   "metadata": {},
   "outputs": [],
   "source": [
    "# defined function\n",
    "def create_new_account():\n",
    "    # collect user information\n",
    "    print(\"No Problem! Answer these questions to complete your account set up:\")\n",
    "    first_name = input(\"What is your first name?\")\n",
    "    last_name = input(\"What is your last name?\")\n",
    "    zipcode = input(\"What is your zip code?\")\n",
    "    phone = input(\"What is your phone number?\")\n",
    "    email = input(\"What is your email address?\")\n",
    "    username = input(\"What would you like your new username to be?\")\n",
    "    password = input(\"What would you like your new password to be?\")\n",
    "    information = [first_name,last_name,zipcode,phone,email]\n",
    "    private = [username,password]\n",
    "    # write new customer information to csv files\n",
    "    with open(customer_list_path,'a+', newline='') as file_name:\n",
    "        csvwriter = csv.writer(file_name)\n",
    "        csvwriter.writerow(information)\n",
    "    # write new username and password to private list\n",
    "    with open(private_path,'a+', newline='') as file_name:\n",
    "        csvwriter = csv.writer(file_name)\n",
    "        csvwriter.writerow(private)\n",
    "    print(\"Your account has been created!! Enjoy the benefits of our website\") "
   ]
  },
  {
   "cell_type": "code",
   "execution_count": 6,
   "metadata": {},
   "outputs": [
    {
     "name": "stdout",
     "output_type": "stream",
     "text": [
      "Do you have an account? (y/n)y\n",
      "Enter your usernameloganbon\n",
      "Enter your passwordLacrosse23$\n",
      "Congratulations you're logged in\n",
      "\n",
      "Welcome to the home page.\n"
     ]
    }
   ],
   "source": [
    "# get resource file paths\n",
    "customer_list_path = os.path.join(\"Resources/customer_list.csv\")\n",
    "private_path = os.path.join(\"Resources/private.csv\")\n",
    "# read csv\n",
    "customer_list = pd.read_csv(customer_list_path)\n",
    "private_list = pd.read_csv(private_path)\n",
    "# create dataframes\n",
    "customer_df = pd.DataFrame(customer_list)\n",
    "private_df = pd.DataFrame(private_list)\n",
    "\n",
    "# Ask user if they have an account\n",
    "user_input = input(\"Do you have an account? (y/n)\")\n",
    "\n",
    "# if the user has an account, prompt user to login\n",
    "if user_input.lower() == \"y\":\n",
    "    # ask user for username and password\n",
    "    username = input(\"Enter your username\").lower()\n",
    "    password = input(\"Enter your password\")\n",
    "    # if username is recognized, check for authenticity\n",
    "    while username in list(private_df[\"Username\"]):\n",
    "        # filter customer list dataframe to only the current user's information\n",
    "        customer = private_df.loc[username==private_df[\"Username\"],:]\n",
    "        # authenticate username and password match\n",
    "        if (username == customer[\"Username\"]).bool() & (password == customer[\"Password\"]).bool():\n",
    "            print(\"Congratulations you're logged in\")\n",
    "            break\n",
    "        # if password is incorrect ask user to re-enter password\n",
    "        elif (username == customer[\"Username\"]).bool() & (password != customer[\"Password\"]).bool():\n",
    "            password = input(\"That password is incorrect. Please try again.\")       \n",
    "    # if username is not recognized, promt user to set up new account\n",
    "    else:\n",
    "        user_input = input(\"We don't have an account associated with that username. Would you like to set up a new account? (y/n)\")\n",
    "        # if user doesnt want to set up new account, quit the program\n",
    "        if user_input.lower() == \"n\":\n",
    "            print(\"Thanks for visiting our website. We hope to hear from you again soon.\") \n",
    "            exit()\n",
    "        # if user does want to set up an account\n",
    "        elif user_input.lower() ==\"y\":\n",
    "            create_new_account()\n",
    "# if user doesn't have an account, prompt them to set up a new account\n",
    "elif user_input == \"n\":\n",
    "    create_new_account()\n",
    "\n",
    "# the user will now be sent to the home page\n",
    "print(\"\"\"\n",
    "Welcome to the home page.\"\"\")"
   ]
  },
  {
   "cell_type": "code",
   "execution_count": null,
   "metadata": {},
   "outputs": [],
   "source": []
  },
  {
   "cell_type": "code",
   "execution_count": null,
   "metadata": {},
   "outputs": [],
   "source": []
  },
  {
   "cell_type": "code",
   "execution_count": null,
   "metadata": {},
   "outputs": [],
   "source": []
  },
  {
   "cell_type": "code",
   "execution_count": null,
   "metadata": {},
   "outputs": [],
   "source": []
  }
 ],
 "metadata": {
  "kernelspec": {
   "display_name": "Python 3",
   "language": "python",
   "name": "python3"
  },
  "language_info": {
   "codemirror_mode": {
    "name": "ipython",
    "version": 3
   },
   "file_extension": ".py",
   "mimetype": "text/x-python",
   "name": "python",
   "nbconvert_exporter": "python",
   "pygments_lexer": "ipython3",
   "version": "3.7.6"
  }
 },
 "nbformat": 4,
 "nbformat_minor": 4
}
