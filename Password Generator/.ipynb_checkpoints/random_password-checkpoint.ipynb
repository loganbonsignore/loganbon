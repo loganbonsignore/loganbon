{
 "cells": [
  {
   "cell_type": "markdown",
   "metadata": {},
   "source": [
    "## Random Password Generator\n",
    "- This code uses input from the user to create a randomly generated strong password\n",
    "- Each password is 20 characters long and is made up of letters, elements and symbols\n",
    "- The password is then stored in a local file"
   ]
  },
  {
   "cell_type": "code",
   "execution_count": 3,
   "metadata": {},
   "outputs": [],
   "source": [
    "import random\n",
    "import pandas as pd\n",
    "\n",
    "# elements available for use in password\n",
    "choice_container = ['1','2','3','4','5','6','7','8','9','0','q','w','e','r','t','y','u','i','o','p','a','s','d','f','g','h','j','k','l','z','x','c','v','b','n','m','!','@','#','$','%','&','*','-','+','=']"
   ]
  },
  {
   "cell_type": "code",
   "execution_count": 4,
   "metadata": {},
   "outputs": [
    {
     "name": "stdout",
     "output_type": "stream",
     "text": [
      "\n",
      "Answer the following questions to recieve a randomly generated strong password.\n",
      "\n",
      "What website is this password for? :Test_Website_3\n",
      "What is the username associated with this password? :Test_Username_3\n",
      "Enter one word for the program to use in making your password. :Testing\n"
     ]
    }
   ],
   "source": [
    "# ask user for inputs\n",
    "print(\"\"\"\n",
    "Answer the following questions to recieve a randomly generated strong password.\n",
    "\"\"\")\n",
    "website = input(\"What website is this password for? :\")\n",
    "username = input(\"What is the username associated with this password? :\")\n",
    "user_input = input(\"Enter one word for the program to use in making your password. :\")"
   ]
  },
  {
   "cell_type": "markdown",
   "metadata": {},
   "source": [
    "**Password is generated here:**"
   ]
  },
  {
   "cell_type": "code",
   "execution_count": 5,
   "metadata": {},
   "outputs": [
    {
     "name": "stdout",
     "output_type": "stream",
     "text": [
      "Your new password is guy%=t9n#tniv8sTe*eh\n"
     ]
    }
   ],
   "source": [
    "# create a list of elements based on user input\n",
    "input_elements = [letter for letter in user_input]\n",
    "# create another list of random elements so that total elements equal 20\n",
    "random_elements = [random.choice(choice_container) for letter in range(20-len(input_elements))]\n",
    "# combine the two lists\n",
    "combined = [random_elements.append(letter) for letter in input_elements]\n",
    "#randomly shuffle elements\n",
    "random.shuffle(random_elements)\n",
    "#join the list to get a the final random password\n",
    "password = \"\".join(element for element in random_elements)\n",
    "print(f\"Your new password is {password}\")"
   ]
  },
  {
   "cell_type": "code",
   "execution_count": 6,
   "metadata": {},
   "outputs": [],
   "source": [
    "# add information to dataframe\n",
    "password_df = pd.read_csv(\"Resources/data.csv\")\n",
    "new_row = {\"Website\":website,\"Username\":username,\"Password\":password}\n",
    "password_df = password_df.append(new_row, ignore_index=True)\n",
    "# save information to csv\n",
    "password_df.to_csv(\"Resources/data.csv\", index=False)"
   ]
  },
  {
   "cell_type": "code",
   "execution_count": 7,
   "metadata": {},
   "outputs": [
    {
     "data": {
      "text/html": [
       "<div>\n",
       "<style scoped>\n",
       "    .dataframe tbody tr th:only-of-type {\n",
       "        vertical-align: middle;\n",
       "    }\n",
       "\n",
       "    .dataframe tbody tr th {\n",
       "        vertical-align: top;\n",
       "    }\n",
       "\n",
       "    .dataframe thead th {\n",
       "        text-align: right;\n",
       "    }\n",
       "</style>\n",
       "<table border=\"1\" class=\"dataframe\">\n",
       "  <thead>\n",
       "    <tr style=\"text-align: right;\">\n",
       "      <th></th>\n",
       "      <th>Website</th>\n",
       "      <th>Username</th>\n",
       "      <th>Password</th>\n",
       "    </tr>\n",
       "  </thead>\n",
       "  <tbody>\n",
       "    <tr>\n",
       "      <th>0</th>\n",
       "      <td>loganbon.com</td>\n",
       "      <td>loganbon</td>\n",
       "      <td>e+ee6!wplks$qnu2yi0k</td>\n",
       "    </tr>\n",
       "    <tr>\n",
       "      <th>1</th>\n",
       "      <td>Test_Website_1</td>\n",
       "      <td>Test_Username_1</td>\n",
       "      <td>2=j5q8*yltww%aj#fo!u</td>\n",
       "    </tr>\n",
       "    <tr>\n",
       "      <th>2</th>\n",
       "      <td>Test_Website_2</td>\n",
       "      <td>Test_Username_2</td>\n",
       "      <td>4w+d%h72-9lt&amp;+ep%%ih</td>\n",
       "    </tr>\n",
       "    <tr>\n",
       "      <th>3</th>\n",
       "      <td>Test_Website_3</td>\n",
       "      <td>Test_Username_3</td>\n",
       "      <td>guy%=t9n#tniv8sTe*eh</td>\n",
       "    </tr>\n",
       "  </tbody>\n",
       "</table>\n",
       "</div>"
      ],
      "text/plain": [
       "          Website         Username              Password\n",
       "0    loganbon.com         loganbon  e+ee6!wplks$qnu2yi0k\n",
       "1  Test_Website_1  Test_Username_1  2=j5q8*yltww%aj#fo!u\n",
       "2  Test_Website_2  Test_Username_2  4w+d%h72-9lt&+ep%%ih\n",
       "3  Test_Website_3  Test_Username_3  guy%=t9n#tniv8sTe*eh"
      ]
     },
     "execution_count": 7,
     "metadata": {},
     "output_type": "execute_result"
    }
   ],
   "source": [
    "# proof of information storage\n",
    "pd.read_csv(\"Resources/data.csv\")"
   ]
  }
 ],
 "metadata": {
  "kernelspec": {
   "display_name": "Python 3",
   "language": "python",
   "name": "python3"
  },
  "language_info": {
   "codemirror_mode": {
    "name": "ipython",
    "version": 3
   },
   "file_extension": ".py",
   "mimetype": "text/x-python",
   "name": "python",
   "nbconvert_exporter": "python",
   "pygments_lexer": "ipython3",
   "version": "3.7.6"
  }
 },
 "nbformat": 4,
 "nbformat_minor": 4
}
