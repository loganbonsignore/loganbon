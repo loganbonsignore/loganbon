{
 "cells": [
  {
   "cell_type": "markdown",
   "metadata": {},
   "source": [
    "## Beat the Applicant Tracking System\n",
    "- This script identifies which words are in the job description you are applying for, but not in your resume\n",
    "- You can add these words to the bottom of your resume, reduce the font size and change the text color to white so they are not visible by the naked eye\n",
    "- The applicant tracking system will detect these words in your resume and as a result your resume will be a 100% match everytime. This will get your resume in front of a real human more often"
   ]
  },
  {
   "cell_type": "code",
   "execution_count": 1,
   "metadata": {},
   "outputs": [],
   "source": [
    "import pandas as pd\n",
    "import re\n",
    "import string\n",
    "from nltk.corpus import stopwords\n",
    "from nltk.stem.wordnet import WordNetLemmatizer\n",
    "from nltk.tag import pos_tag\n",
    "from nltk.tokenize import word_tokenize\n",
    "import itertools"
   ]
  },
  {
   "cell_type": "code",
   "execution_count": 2,
   "metadata": {},
   "outputs": [],
   "source": [
    "def clean_data(full_job_description):\n",
    "    # Cleaning data\n",
    "    cleaner = re.sub(\"\\n\", \" \", full_job_description)\n",
    "    clean_job_description = re.sub(\"[%s]\" % re.escape(string.punctuation), \"  \", cleaner)\n",
    "    cleaner = re.sub(\"[–]|  |\", \"\", cleaner)\n",
    "    cleaner = re.sub('[‘’“”…]', '', cleaner)\n",
    "    print(f\"Original Word Count: {len([word for word in clean_job_description.split(' ')])}\")\n",
    "\n",
    "    # Tokenizing words\n",
    "    words = word_tokenize(clean_job_description)\n",
    "\n",
    "    # Cleaning stopwords\n",
    "    stop_words = stopwords.words('english')\n",
    "    clean_words=[word.lower() for word in words if not word in stop_words]\n",
    "    print(f\"First Clean: {len(clean_words)}\")\n",
    "\n",
    "    # Lemmatizing words (running = run)\n",
    "    cleanest_words = []\n",
    "    for word, tag in pos_tag(clean_words):\n",
    "        # Assigning new position tags for WordNetLemmatizer() function\n",
    "        if tag.startswith(\"NN\"):\n",
    "            pos = \"n\"\n",
    "        elif tag.startswith(\"VB\"):\n",
    "            pos = \"v\"\n",
    "        else:\n",
    "            pos = \"a\"\n",
    "\n",
    "        lemmatizer = WordNetLemmatizer()\n",
    "        lemmatized_word = lemmatizer.lemmatize(word, pos)\n",
    "\n",
    "        cleanest_words.append(lemmatized_word)\n",
    "\n",
    "    # Checking for duplicates and long words\n",
    "    final_words = []\n",
    "    for word in cleanest_words:\n",
    "        if word not in final_words and len(word)<20 and len(word)!=1:\n",
    "            final_words.append(word)\n",
    "    print(f\"Second Clean: {len(final_words)}\")\n",
    "    \n",
    "    return final_words"
   ]
  },
  {
   "cell_type": "markdown",
   "metadata": {},
   "source": [
    "### Upload and Clean Job Description\n",
    "- Copy and paste the job description you are applying for here\n",
    "- Only paste information related to the job duties, avoid pasting information about the company\n",
    "- The clean_data() function uses NLP to clean the data for unnecessary words"
   ]
  },
  {
   "cell_type": "code",
   "execution_count": 3,
   "metadata": {},
   "outputs": [],
   "source": [
    "job_description = \"\"\"Who we are looking for:\n",
    "Wunderman Thompson is seeking a Programmer/Analyst. You will be responsible for the loading, summarization, quality control, analysis, and reporting of all data being ingested by the Co-op and other marketing databases.\n",
    "\n",
    "What you’ll do: \n",
    "Deliverables | Develop and execute data conversion programs, using regular expressions and programs for flat file transformation, development and maintenance, ad hoc data extract, variable edit, and report generation, in a PC/Server environment. Take responsibility for data integrity; deliver on programming requirements and meet required deadlines.\n",
    "Process | Develop an understanding of data processing issues related to Wunderman Thompson Data's evolving business strategy, and provide possible solutions.  Develop, execute, and adhere to Quality Assurance (QA) processes and procedures\n",
    "Work | Handle multiple channels of communication across departments and prioritize key tasks. Take on special projects that may require coding and maintenance\n",
    "Who you are:\n",
    "Open and collaborative | Our team is close-knit and supportive and we’re working with a lot of unknowns – you must champion of team environments that are comfortable and encouraging.\n",
    "Optimistic and resilient | Dig in and figure out how to work around problems. Yes and why not posture. Takes care of self and team. Balance needed to maintain stamina and positivity.\n",
    "Ego-less | We all wear the hats that need wearing, it’s a mentality that makes the team successful.\n",
    "What you’ll need: \n",
    "Technical aptitude and problem solving skills.\n",
    "2+ years Linux/Unix.\n",
    "2+ years using SQL in Oracle environment.\n",
    "Shell scripting, Perl scripting is a plus.\n",
    "Regular expressions.\n",
    "Experience and proven performance in direct marketing and support of direct channel sales, along with use of targeting tools in implementation.\n",
    "Proficient in Microsoft Outlook, Word, Excel, and PowerPoint.\n",
    "Extreme attention to detail and data quality.\n",
    "Ability to work in fast paced and highly dynamic work environment.\n",
    "Have excellent interpersonal, communications, and customer service skills.\n",
    "Ability to prioritize, self-manage, and seek help or direction when necessary.\n",
    "Manage multiple tasks and high volume workload.\"\"\""
   ]
  },
  {
   "cell_type": "code",
   "execution_count": 4,
   "metadata": {},
   "outputs": [
    {
     "name": "stdout",
     "output_type": "stream",
     "text": [
      "Original Word Count: 468\n",
      "First Clean: 228\n",
      "Second Clean: 167\n"
     ]
    }
   ],
   "source": [
    "description_words = clean_data(job_description)"
   ]
  },
  {
   "cell_type": "code",
   "execution_count": 5,
   "metadata": {},
   "outputs": [
    {
     "name": "stdout",
     "output_type": "stream",
     "text": [
      "['who', 'look', 'wunderman', 'thompson', 'seek', 'programmer', 'analyst', 'you', 'responsible', 'load', 'summarization', 'quality', 'control', 'analysis', 'report', 'data', 'ingest', 'co', 'op', 'marketing', 'databases', 'what', 'deliverable', 'develop', 'execute', 'conversion', 'program', 'use', 'regular', 'expression', 'flat', 'file', 'transformation', 'development', 'maintenance', 'ad', 'hoc', 'extract', 'variable', 'edit', 'generation', 'pc', 'server', 'environment', 'take', 'responsibility', 'integrity', 'deliver', 'programming', 'requirement', 'meet', 'required', 'deadline', 'process', 'understand', 'issue', 'relate', 'evolve', 'business', 'strategy', 'provide', 'possible', 'solution', 'adhere', 'assurance', 'qa', 'procedure', 'work', 'handle', 'multiple', 'channel', 'communication', 'across', 'department', 'prioritize', 'key', 'task', 'special', 'project', 'may', 'require', 'cod', 'open', 'collaborative', 'our', 'team', 'close', 'knit', 'supportive', 'lot', 'unknowns', 'must', 'champion', 'comfortable', 'encouraging', 'optimistic', 'resilient', 'dig', 'figure', 'around', 'problem', 'yes', 'posture', 'care', 'self', 'balance', 'need', 'maintain', 'stamina', 'positivity', 'ego', 'less', 'we', 'wear', 'hat', 'mentality', 'make', 'successful', 'technical', 'aptitude', 'solve', 'skill', 'year', 'linux', 'unix', 'sql', 'oracle', 'shell', 'script', 'perl', 'plus', 'experience', 'proven', 'performance', 'direct', 'support', 'sale', 'along', 'targeting', 'tool', 'implementation', 'proficient', 'microsoft', 'outlook', 'word', 'excel', 'powerpoint', 'extreme', 'attention', 'detail', 'ability', 'fast', 'pace', 'highly', 'dynamic', 'have', 'excellent', 'interpersonal', 'customer', 'service', 'manage', 'help', 'direction', 'necessary', 'high', 'volume', 'workload']\n"
     ]
    }
   ],
   "source": [
    "print(description_words)"
   ]
  },
  {
   "cell_type": "markdown",
   "metadata": {},
   "source": [
    "### Upload and Clean Resume\n",
    "- We will do the same as above with our current resume"
   ]
  },
  {
   "cell_type": "code",
   "execution_count": 6,
   "metadata": {},
   "outputs": [],
   "source": [
    "resume = \"\"\"DATA ANALYST & FULL STACK WEB DEVELOPER\n",
    "\n",
    "Multidisciplinary Data Analyst and Full Stack Web Developer with a passion for extracting actionable insights from big data to help inform decision-makers and drive growth. Building on 3+ years of experience in sales and operations management and graduating from the University of Denver's Data Science program in Dec 2020, I combine my public speaking background to deliver a uniquely skilled data technologist with a business focus. Prepared to excel in solving complex business problems. Experienced in big data analysis/visualization and working cross-functionally to collect data and develop models to determine trends utilizing a variety of data sources.\n",
    "\n",
    "TECHNICAL SKILLS\n",
    "\n",
    "Languages: Python, SQL, Javascript, HTML, CSS, Excel VBA, R, JSON\n",
    "Data Manipulation & Visualization: Pandas, Numpy, Matplotlib, Plotly, D3, BeautifulSoup, Selenium\n",
    "Database: MySQL, MongoDB, SQLAlchemy, Tableau, Hadoop \n",
    "Other: Flask, Heroku, Git, Microsoft Office Suite, Machine Learning, Natural Language Processing\n",
    "\n",
    "PROJECTS\n",
    "Twitter Sentiment Analysis – github.com/loganbonsignore/twitter-sentiment-analysis            \n",
    "Full-stack web app that calculates market sentiment for any business based on recently published tweets\n",
    "●\tUses AI and NLP to analyze and classify tweets in order to calculate a sentiment score. Returns graphical representations of sentiment trends and examples of tweets used during the analysis.\n",
    "●\tTools used: Pandas, Matplotlib, Flask, JavaScript, Selenium, BeautifulSoup, RegEx, Twitter API\n",
    "\n",
    "Foodies API – github.com/RoarkJ/foodies_api    \n",
    "RESTful API providing Colorado business data to interested parties\n",
    "●\tUsed the ETL Process to build a database of 7000 restaurant and retail businesses in Colorado through different web scraping techniques and API’s.\n",
    "●\tTools used: Pandas, Flask, RegEx, Selenium, BeautifulSoup, MongoDB, Yelp API\n",
    "\n",
    "Media Consumption Analysis – github.com/loganbonsignore/media-consumption-analysis    \n",
    "In-depth analysis of Covid-19’s impact on America’s media consumption habits\n",
    "●\tExamines which historically important voter issues Americans are most focused on today and if those issues have changed when compared to recent election years.\n",
    "●\tTools used: Pandas, Matplotlib, Numpy, JSON, Jupyter Notebook, New York Times API\n",
    "\n",
    "EXPERIENCE\n",
    "Cintas Corporation\t\t\t\t\t\t\t\t\t\t          Denver, CO\n",
    "Training and Compliance Instructor\t\t\t\t\t\t\t         2019 – 2020\n",
    "Delivered engaging instructor-led training courses to corporate audiences.\n",
    "●\tResponsible for $30,000 revenue per month (Achievers Club award, Q1 2020)\n",
    "●\tProvided official consultation at customer sites to ensure government compliance\n",
    "●\tNegotiated and scheduled training courses with customer decision makers\n",
    "●\tWorked closely with service and sales team to ensure customer satisfaction\n",
    "\n",
    "Cintas Corporation\t\t\t\t\t\t\t\t\t\t          Denver, CO\n",
    "Management Trainee\t\t\t\t\t\t\t         \t\t         2017 – 2019\n",
    "Rotational program geared toward developing future leaders of Cintas.\n",
    "●\tService rotation: Managed relationships with 200 current customers to leverage product and service sales growth (Achievers Club award, Q4 2018)\n",
    "●\tWarehouse rotation: Managed team of 3 responsible for $600,000 of annual inventory turnover\n",
    "●\tTraining rotation: Delivered engaging in-person training courses to corporate audiences (sold $50,000 revenue, 2H 2019)\n",
    "●\tOffice rotation: Received insights into fundamental business practices including financial statements, invoicing, high-level decision making and more\n",
    "●\tAdditional duties: Fleet Manager - Responsible for the safety, maintenance and government compliance of 40+ vehicles and drivers\n",
    "\n",
    "Rabobank, N.A.\t\t\t\t\t\t\t\t\t\t          Fresno, CA\n",
    "Intern, Food and Agribusiness Research and Advisory\t\t\t\t\t         2016 – 2016\n",
    "Supported key research projects for industry leading food and agribusiness analysts\n",
    "●\tDeveloped global agricultural research and business intelligence data\n",
    "●\tCo-authored an externally published industry research report\n",
    "●\tDeveloped and delivered a presentation outlining industry research\n",
    "\n",
    "EDUCATION\n",
    "\n",
    "Data Science Program\n",
    "University of Denver – Denver, CO\n",
    "A 24-week intensive program focused on gaining technical programming skills in Excel, VBA, Python, JavaScript, SQL Databases, Tableau, Big Data, Machine Learning and more.\n",
    "\n",
    "Bachelor of Science in Business Administration\n",
    "Texas A&M University – College Station, TX\n",
    "Member of the Texas A&M Men’s Club Lacrosse Team.\n",
    "\"\"\""
   ]
  },
  {
   "cell_type": "code",
   "execution_count": 7,
   "metadata": {},
   "outputs": [
    {
     "name": "stdout",
     "output_type": "stream",
     "text": [
      "Original Word Count: 928\n",
      "First Clean: 487\n",
      "Second Clean: 264\n"
     ]
    }
   ],
   "source": [
    "resume = re.sub('\\d', '', resume)\n",
    "resume_words = clean_data(resume)"
   ]
  },
  {
   "cell_type": "code",
   "execution_count": 8,
   "metadata": {},
   "outputs": [
    {
     "name": "stdout",
     "output_type": "stream",
     "text": [
      "['data', 'analyst', 'full', 'stack', 'web', 'developer', 'multidisciplinary', 'passion', 'extract', 'actionable', 'insight', 'big', 'help', 'inform', 'decision', 'maker', 'drive', 'growth', 'building', 'year', 'experience', 'sale', 'operation', 'management', 'graduate', 'university', 'denver', 'science', 'program', 'dec', 'combine', 'public', 'speaking', 'background', 'deliver', 'uniquely', 'skilled', 'technologist', 'business', 'focus', 'prepare', 'excel', 'solve', 'complex', 'problem', 'analysis', 'visualization', 'work', 'cross', 'functionally', 'collect', 'develop', 'model', 'determine', 'trend', 'utilizing', 'variety', 'source', 'technical', 'skill', 'languages', 'python', 'sql', 'javascript', 'html', 'cs', 'vba', 'json', 'manipulation', 'panda', 'numpy', 'matplotlib', 'plotly', 'beautifulsoup', 'selenium', 'database', 'mysql', 'mongodb', 'sqlalchemy', 'tableau', 'hadoop', 'other', 'flask', 'heroku', 'git', 'microsoft', 'office', 'suite', 'machine', 'learn', 'natural', 'language', 'processing', 'project', 'twitter', 'sentiment', 'github', 'com', 'loganbonsignore', 'app', 'calculate', 'market', 'base', 'recently', 'publish', 'tweet', 'us', 'ai', 'nlp', 'analyze', 'classify', 'order', 'score', 'return', 'graphical', 'representation', 'examples', 'use', 'tool', 'pandas', 'regex', 'api', 'foodie', 'roarkj', 'restful', 'provide', 'colorado', 'interested', 'party', 'etl', 'process', 'build', 'restaurant', 'retail', 'different', 'scrap', 'technique', 'yelp', 'medium', 'consumption', 'in', 'depth', 'covid', 'impact', 'america', 'habit', 'examines', 'historically', 'important', 'voter', 'issue', 'american', 'today', 'change', 'compare', 'recent', 'election', 'jupyter', 'notebook', 'new', 'york', 'time', 'cintas', 'corporation', 'co', 'train', 'compliance', 'instructor', 'engage', 'lead', 'training', 'course', 'corporate', 'audience', 'responsible', 'revenue', 'per', 'month', 'achiever', 'club', 'award', 'official', 'consultation', 'customer', 'sit', 'ensure', 'government', 'negotiate', 'scheduled', 'closely', 'service', 'team', 'satisfaction', 'trainee', 'rotational', 'gear', 'toward', 'future', 'leader', 'rotation', 'manage', 'relationship', 'current', 'leverage', 'product', 'warehouse', 'annual', 'inventory', 'turnover', 'person', 'sell', 'receive', 'fundamental', 'practice', 'include', 'financial', 'statement', 'invoice', 'high', 'level', 'make', 'additional', 'duty', 'fleet', 'manager', 'safety', 'maintenance', 'vehicle', 'driver', 'rabobank', 'fresno', 'ca', 'intern', 'food', 'agribusiness', 'research', 'advisory', 'support', 'key', 'industry', 'developed', 'global', 'agricultural', 'intelligence', 'author', 'externally', 'report', 'presentation', 'outline', 'education', 'week', 'intensive', 'gain', 'programming', 'databases', 'bachelor', 'administration', 'texas', 'college', 'station', 'tx', 'member', 'men', 'lacrosse']\n"
     ]
    }
   ],
   "source": [
    "print(resume_words)"
   ]
  },
  {
   "cell_type": "markdown",
   "metadata": {},
   "source": [
    "### Find Words In Job Description & Not In Your Resume"
   ]
  },
  {
   "cell_type": "code",
   "execution_count": 11,
   "metadata": {},
   "outputs": [
    {
     "data": {
      "text/plain": [
       "['who',\n",
       " 'look',\n",
       " 'wunderman',\n",
       " 'thompson',\n",
       " 'seek',\n",
       " 'programmer',\n",
       " 'you',\n",
       " 'load',\n",
       " 'summarization',\n",
       " 'quality',\n",
       " 'control',\n",
       " 'ingest',\n",
       " 'op',\n",
       " 'marketing',\n",
       " 'what',\n",
       " 'deliverable',\n",
       " 'execute',\n",
       " 'conversion',\n",
       " 'regular',\n",
       " 'expression',\n",
       " 'flat',\n",
       " 'file',\n",
       " 'transformation',\n",
       " 'development',\n",
       " 'ad',\n",
       " 'hoc',\n",
       " 'variable',\n",
       " 'edit',\n",
       " 'generation',\n",
       " 'pc',\n",
       " 'server',\n",
       " 'environment',\n",
       " 'take',\n",
       " 'responsibility',\n",
       " 'integrity',\n",
       " 'requirement',\n",
       " 'meet',\n",
       " 'required',\n",
       " 'deadline',\n",
       " 'understand',\n",
       " 'relate',\n",
       " 'evolve',\n",
       " 'strategy',\n",
       " 'possible',\n",
       " 'solution',\n",
       " 'adhere',\n",
       " 'assurance',\n",
       " 'qa',\n",
       " 'procedure',\n",
       " 'handle',\n",
       " 'multiple',\n",
       " 'channel',\n",
       " 'communication',\n",
       " 'across',\n",
       " 'department',\n",
       " 'prioritize',\n",
       " 'task',\n",
       " 'special',\n",
       " 'may',\n",
       " 'require',\n",
       " 'cod',\n",
       " 'open',\n",
       " 'collaborative',\n",
       " 'our',\n",
       " 'close',\n",
       " 'knit',\n",
       " 'supportive',\n",
       " 'lot',\n",
       " 'unknowns',\n",
       " 'must',\n",
       " 'champion',\n",
       " 'comfortable',\n",
       " 'encouraging',\n",
       " 'optimistic',\n",
       " 'resilient',\n",
       " 'dig',\n",
       " 'figure',\n",
       " 'around',\n",
       " 'yes',\n",
       " 'posture',\n",
       " 'care',\n",
       " 'self',\n",
       " 'balance',\n",
       " 'need',\n",
       " 'maintain',\n",
       " 'stamina',\n",
       " 'positivity',\n",
       " 'ego',\n",
       " 'less',\n",
       " 'we',\n",
       " 'wear',\n",
       " 'hat',\n",
       " 'mentality',\n",
       " 'successful',\n",
       " 'aptitude',\n",
       " 'linux',\n",
       " 'unix',\n",
       " 'oracle',\n",
       " 'shell',\n",
       " 'script',\n",
       " 'perl',\n",
       " 'plus',\n",
       " 'proven',\n",
       " 'performance',\n",
       " 'direct',\n",
       " 'along',\n",
       " 'targeting',\n",
       " 'implementation',\n",
       " 'proficient',\n",
       " 'outlook',\n",
       " 'word',\n",
       " 'powerpoint',\n",
       " 'extreme',\n",
       " 'attention',\n",
       " 'detail',\n",
       " 'ability',\n",
       " 'fast',\n",
       " 'pace',\n",
       " 'highly',\n",
       " 'dynamic',\n",
       " 'have',\n",
       " 'excellent',\n",
       " 'interpersonal',\n",
       " 'direction',\n",
       " 'necessary',\n",
       " 'volume',\n",
       " 'workload']"
      ]
     },
     "execution_count": 11,
     "metadata": {},
     "output_type": "execute_result"
    }
   ],
   "source": [
    "not_in_resume = [word for word in description_words if word not in resume_words]\n",
    "not_in_resume"
   ]
  },
  {
   "cell_type": "markdown",
   "metadata": {},
   "source": [
    "### Result\n",
    "* Paste this text at the bottom of your resume\n",
    "* Reduce the font size and change the text color to white\n",
    "* Your resume is now a 100% match to the applicant tracking system!"
   ]
  },
  {
   "cell_type": "code",
   "execution_count": 12,
   "metadata": {},
   "outputs": [
    {
     "data": {
      "text/plain": [
       "'who look wunderman thompson seek programmer you load summarization quality control ingest op marketing what deliverable execute conversion regular expression flat file transformation development ad hoc variable edit generation pc server environment take responsibility integrity requirement meet required deadline understand relate evolve strategy possible solution adhere assurance qa procedure handle multiple channel communication across department prioritize task special may require cod open collaborative our close knit supportive lot unknowns must champion comfortable encouraging optimistic resilient dig figure around yes posture care self balance need maintain stamina positivity ego less we wear hat mentality successful aptitude linux unix oracle shell script perl plus proven performance direct along targeting implementation proficient outlook word powerpoint extreme attention detail ability fast pace highly dynamic have excellent interpersonal direction necessary volume workload'"
      ]
     },
     "execution_count": 12,
     "metadata": {},
     "output_type": "execute_result"
    }
   ],
   "source": [
    "(\" \").join(not_in_resume)"
   ]
  }
 ],
 "metadata": {
  "kernelspec": {
   "display_name": "Python 3",
   "language": "python",
   "name": "python3"
  },
  "language_info": {
   "codemirror_mode": {
    "name": "ipython",
    "version": 3
   },
   "file_extension": ".py",
   "mimetype": "text/x-python",
   "name": "python",
   "nbconvert_exporter": "python",
   "pygments_lexer": "ipython3",
   "version": "3.7.6"
  }
 },
 "nbformat": 4,
 "nbformat_minor": 4
}
